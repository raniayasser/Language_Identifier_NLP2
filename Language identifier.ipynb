{
 "cells": [
  {
   "cell_type": "code",
   "execution_count": 44,
   "metadata": {
    "id": "snA72XHgOiuD"
   },
   "outputs": [],
   "source": [
    "import pandas as pd                 # Importing pandas library for data manipulation and analysis\n",
    "import numpy as np                  # Importing numpy library for numerical operations\n",
    "import re                           # Importing re library for regular expression operations\n",
    "import seaborn as sns               # Importing seaborn library for data visualization\n",
    "import matplotlib.pyplot as plt     # Importing matplotlib library for data visualization\n",
    "import nltk                         # Importing nltk library for natural language processing\n",
    "from nltk.stem import WordNetLemmatizer, PorterStemmer   # Importing WordNetLemmatizer and PorterStemmer classes for text preprocessing\n",
    "from sklearn.preprocessing import LabelEncoder          # Importing LabelEncoder class for encoding categorical variables\n",
    "from sklearn.feature_extraction.text import CountVectorizer   # Importing CountVectorizer class for text preprocessing\n",
    "from sklearn.model_selection import train_test_split    # Importing train_test_split function for splitting data into train and test sets\n",
    "from sklearn.naive_bayes import MultinomialNB            # Importing MultinomialNB class for training a Naive Bayes model\n",
    "from sklearn.metrics import accuracy_score, confusion_matrix, classification_report   # Importing evaluation metrics for measuring the model's performance"
   ]
  },
  {
   "cell_type": "code",
   "execution_count": 45,
   "metadata": {
    "colab": {
     "base_uri": "https://localhost:8080/",
     "height": 363
    },
    "id": "nOL3aEh3O1Hg",
    "outputId": "6ee4bb46-fa14-48dc-f4a2-d29ed375791d"
   },
   "outputs": [
    {
     "data": {
      "text/html": [
       "<div>\n",
       "<style scoped>\n",
       "    .dataframe tbody tr th:only-of-type {\n",
       "        vertical-align: middle;\n",
       "    }\n",
       "\n",
       "    .dataframe tbody tr th {\n",
       "        vertical-align: top;\n",
       "    }\n",
       "\n",
       "    .dataframe thead th {\n",
       "        text-align: right;\n",
       "    }\n",
       "</style>\n",
       "<table border=\"1\" class=\"dataframe\">\n",
       "  <thead>\n",
       "    <tr style=\"text-align: right;\">\n",
       "      <th></th>\n",
       "      <th>Text</th>\n",
       "      <th>Language</th>\n",
       "    </tr>\n",
       "  </thead>\n",
       "  <tbody>\n",
       "    <tr>\n",
       "      <th>0</th>\n",
       "      <td>Nature, in the broadest sense, is the natural...</td>\n",
       "      <td>English</td>\n",
       "    </tr>\n",
       "    <tr>\n",
       "      <th>1</th>\n",
       "      <td>\"Nature\" can refer to the phenomena of the phy...</td>\n",
       "      <td>English</td>\n",
       "    </tr>\n",
       "    <tr>\n",
       "      <th>2</th>\n",
       "      <td>The study of nature is a large, if not the onl...</td>\n",
       "      <td>English</td>\n",
       "    </tr>\n",
       "    <tr>\n",
       "      <th>3</th>\n",
       "      <td>Although humans are part of nature, human acti...</td>\n",
       "      <td>English</td>\n",
       "    </tr>\n",
       "    <tr>\n",
       "      <th>4</th>\n",
       "      <td>[1] The word nature is borrowed from the Old F...</td>\n",
       "      <td>English</td>\n",
       "    </tr>\n",
       "  </tbody>\n",
       "</table>\n",
       "</div>"
      ],
      "text/plain": [
       "                                                Text Language\n",
       "0   Nature, in the broadest sense, is the natural...  English\n",
       "1  \"Nature\" can refer to the phenomena of the phy...  English\n",
       "2  The study of nature is a large, if not the onl...  English\n",
       "3  Although humans are part of nature, human acti...  English\n",
       "4  [1] The word nature is borrowed from the Old F...  English"
      ]
     },
     "execution_count": 45,
     "metadata": {},
     "output_type": "execute_result"
    }
   ],
   "source": [
    "data = pd.read_csv(\"Language Detection.csv\")  # Reading the dataset into a pandas dataframe\n",
    "data.head()                                   # Displaying the first five rows of the dataset"
   ]
  },
  {
   "cell_type": "code",
   "execution_count": 46,
   "metadata": {
    "colab": {
     "base_uri": "https://localhost:8080/"
    },
    "id": "lGk2TUFFOmEZ",
    "outputId": "c849ad0b-6ad2-4a8a-9abf-a295422e2f17"
   },
   "outputs": [
    {
     "data": {
      "text/plain": [
       "English       1385\n",
       "French        1014\n",
       "Spanish        819\n",
       "Portugeese     739\n",
       "Italian        698\n",
       "Russian        692\n",
       "Sweedish       676\n",
       "Malayalam      594\n",
       "Dutch          546\n",
       "Arabic         536\n",
       "Turkish        474\n",
       "German         470\n",
       "Tamil          469\n",
       "Danish         428\n",
       "Kannada        369\n",
       "Greek          365\n",
       "Hindi           63\n",
       "Name: Language, dtype: int64"
      ]
     },
     "execution_count": 46,
     "metadata": {},
     "output_type": "execute_result"
    }
   ],
   "source": [
    "data[\"Language\"].value_counts()    # Counting the number of observations in each language category"
   ]
  },
  {
   "cell_type": "code",
   "execution_count": 47,
   "metadata": {},
   "outputs": [
    {
     "name": "stderr",
     "output_type": "stream",
     "text": [
      "c:\\Users\\lap shop\\anaconda3\\lib\\site-packages\\seaborn\\_decorators.py:36: FutureWarning: Pass the following variable as a keyword arg: x. From version 0.12, the only valid positional argument will be `data`, and passing other arguments without an explicit keyword will result in an error or misinterpretation.\n",
      "  warnings.warn(\n"
     ]
    },
    {
     "data": {
      "text/plain": [
       "<AxesSubplot:xlabel='Language', ylabel='count'>"
      ]
     },
     "execution_count": 47,
     "metadata": {},
     "output_type": "execute_result"
    },
    {
     "data": {
      "image/png": "[encoded data removed]",
      "text/plain": [
       "<Figure size 1440x1080 with 1 Axes>"
      ]
     },
     "metadata": {
      "needs_background": "light"
     },
     "output_type": "display_data"
    }
   ],
   "source": [
    "plt.figure(figsize=(20,15))                   # Setting the figure size for data visualization\n",
    "sns.countplot(data['Language'])               # Creating a countplot to display the distribution of observations across language categories\n"
   ]
  },
  {
   "cell_type": "code",
   "execution_count": 48,
   "metadata": {
    "id": "oghcXdaWPR2T"
   },
   "outputs": [],
   "source": [
    "X = data[\"Text\"]                              # Assigning the 'Text' column as input features\n",
    "y = data[\"Language\"]                          # Assigning the 'Language' column as target variable"
   ]
  },
  {
   "cell_type": "code",
   "execution_count": 49,
   "metadata": {
    "id": "trFbBiG0PWcR"
   },
   "outputs": [],
   "source": [
    "le = LabelEncoder()                           # Creating an instance of LabelEncoder\n",
    "y = le.fit_transform(y)                       # Encoding the target variable as integers"
   ]
  },
  {
   "cell_type": "code",
   "execution_count": 50,
   "metadata": {},
   "outputs": [],
   "source": [
    "data_list = []  \n",
    "lemmatizer = WordNetLemmatizer()      # Creating an instance of WordNetLemmatizer\n",
    "stemmer = PorterStemmer()                     # Creating an instance of PorterStemmer\n",
    "for text in X:\n",
    "    text = re.sub(r'[^\\w\\s]', '', text)      # Removing punctuations and special characters from the text\n",
    "    text = re.sub(r'\\d+', '', text)           # Removing digits from the text\n",
    "    text = text.lower()                       # Converting the text to lowercase\n",
    "    tokens = nltk.word_tokenize(text)         # Tokenizing the text into words\n",
    "    lemmatized_tokens = [lemmatizer.lemmatize(token) for token in tokens]   # Lemmatizing the tokens\n",
    "    text = ' '.join(lemmatized_tokens)        # Joining the lemmatized tokens to form a text string\n",
    "    data_list.append(text)                    # Appending the preprocessed text to a list\n",
    "\n"
   ]
  },
  {
   "cell_type": "code",
   "execution_count": 51,
   "metadata": {
    "colab": {
     "base_uri": "https://localhost:8080/"
    },
    "id": "m9GIn4fiPdrw",
    "outputId": "8510f7c7-adcb-4363-e29f-9a13000d0a46"
   },
   "outputs": [
    {
     "data": {
      "text/plain": [
       "(10337, 45290)"
      ]
     },
     "execution_count": 51,
     "metadata": {},
     "output_type": "execute_result"
    }
   ],
   "source": [
    "cv = CountVectorizer()                        # Creating an instance of CountVectorizer\n",
    "X = cv.fit_transform(data_list)               # Transforming the preprocessed text into a bag of words model\n",
    "X.shape                                      # Displaying the shape of the transformed data"
   ]
  },
  {
   "cell_type": "code",
   "execution_count": 52,
   "metadata": {
    "id": "bZkj3ywLPhiV"
   },
   "outputs": [],
   "source": [
    "x_train, x_test, y_train, y_test = train_test_split(X, y, test_size = 0.20)  # Splitting the data into training and testing sets\n"
   ]
  },
  {
   "cell_type": "code",
   "execution_count": 53,
   "metadata": {
    "colab": {
     "base_uri": "https://localhost:8080/"
    },
    "id": "VFA7IoXIPj5u",
    "outputId": "0921f4c7-46e4-484e-c3d5-accd53b27465"
   },
   "outputs": [
    {
     "data": {
      "text/plain": [
       "MultinomialNB()"
      ]
     },
     "execution_count": 53,
     "metadata": {},
     "output_type": "execute_result"
    }
   ],
   "source": [
    "model = MultinomialNB()                       # Initialize a Multinomial Naive Bayes classifier\n",
    "model.fit(x_train, y_train)                   # Training the model on the training set"
   ]
  },
  {
   "cell_type": "code",
   "execution_count": 54,
   "metadata": {
    "id": "KinYxLjtPlvz"
   },
   "outputs": [],
   "source": [
    "y_pred = model.predict(x_test)    #Predict the labels of the test data using the trained classifier."
   ]
  },
  {
   "cell_type": "code",
   "execution_count": 55,
   "metadata": {
    "colab": {
     "base_uri": "https://localhost:8080/"
    },
    "id": "eD8mPDgHPnQq",
    "outputId": "4c60a034-cfe6-48c6-dae2-752154146086"
   },
   "outputs": [
    {
     "name": "stdout",
     "output_type": "stream",
     "text": [
      "Accuracy is : 0.9782398452611218\n"
     ]
    }
   ],
   "source": [
    "ac = accuracy_score(y_test, y_pred)     #Calculate the accuracy of the model by comparing the predicted labels with the actual labels\n",
    "cm = confusion_matrix(y_test, y_pred)    #Generate a confusion matrix to visualize the performance of the model\n",
    "cr = classification_report(y_test, y_pred, target_names=le.classes_)       #Generate a classification report to summarize the performance of the model\n",
    "print(\"Accuracy is :\",ac)      #Print the accuracy of the model"
   ]
  },
  {
   "cell_type": "code",
   "execution_count": 56,
   "metadata": {},
   "outputs": [
    {
     "name": "stdout",
     "output_type": "stream",
     "text": [
      "Confusion Matrix: \n",
      " [[107   0   0   3   0   0   0   0   0   0   1   0   0   0   0   0   0]\n",
      " [  0  85   0   2   0   0   0   0   0   0   0   0   0   0   2   0   0]\n",
      " [  0   0  86   5   2   0   0   0   0   0   0   0   0   0   0   0   0]\n",
      " [  0   0   0 296   0   0   0   0   0   0   0   0   0   0   0   0   0]\n",
      " [  0   0   0   0 211   0   0   0   0   0   0   0   0   0   0   0   0]\n",
      " [  0   0   0   1   0  90   0   0   0   0   0   1   0   0   0   0   0]\n",
      " [  0   0   0   1   0   0  65   0   0   0   0   0   0   0   0   0   0]\n",
      " [  0   0   0   0   0   0   0  10   0   0   0   0   0   0   0   0   0]\n",
      " [  0   0   0   0   0   0   0   0 136   0   0   0   0   0   0   0   0]\n",
      " [  0   0   0   2   0   0   0   0   0  70   0   0   0   0   0   0   0]\n",
      " [  0   0   0   4   0   0   0   0   0   0 111   0   0   0   0   0   0]\n",
      " [  0   0   0   1   0   0   0   0   1   0   0 149   0   1   0   0   0]\n",
      " [  0   0   0   3   0   0   0   0   0   0   0   0 122   0   0   0   0]\n",
      " [  0   0   0   2   0   0   0   0   1   0   0   0   0 169   0   0   0]\n",
      " [  0   1   0   2   0   0   0   0   0   0   0   0   0   0 129   0   0]\n",
      " [  0   0   0   3   0   0   0   0   0   0   0   0   0   0   0  97   0]\n",
      " [  0   0   0   4   1   0   0   0   0   0   0   0   1   0   0   0  90]]\n"
     ]
    }
   ],
   "source": [
    "print(\"Confusion Matrix: \\n\", cm)     #Print the confusion matrix\n"
   ]
  },
  {
   "cell_type": "code",
   "execution_count": 57,
   "metadata": {},
   "outputs": [
    {
     "name": "stdout",
     "output_type": "stream",
     "text": [
      "Classification Report: \n",
      "               precision    recall  f1-score   support\n",
      "\n",
      "      Arabic       1.00      0.96      0.98       111\n",
      "      Danish       0.99      0.96      0.97        89\n",
      "       Dutch       1.00      0.92      0.96        93\n",
      "     English       0.90      1.00      0.95       296\n",
      "      French       0.99      1.00      0.99       211\n",
      "      German       1.00      0.98      0.99        92\n",
      "       Greek       1.00      0.98      0.99        66\n",
      "       Hindi       1.00      1.00      1.00        10\n",
      "     Italian       0.99      1.00      0.99       136\n",
      "     Kannada       1.00      0.97      0.99        72\n",
      "   Malayalam       0.99      0.97      0.98       115\n",
      "  Portugeese       0.99      0.98      0.99       152\n",
      "     Russian       0.99      0.98      0.98       125\n",
      "     Spanish       0.99      0.98      0.99       172\n",
      "    Sweedish       0.98      0.98      0.98       132\n",
      "       Tamil       1.00      0.97      0.98       100\n",
      "     Turkish       1.00      0.94      0.97        96\n",
      "\n",
      "    accuracy                           0.98      2068\n",
      "   macro avg       0.99      0.97      0.98      2068\n",
      "weighted avg       0.98      0.98      0.98      2068\n",
      "\n"
     ]
    }
   ],
   "source": [
    "print(\"Classification Report: \\n\", cr)   #Print the classification report"
   ]
  },
  {
   "cell_type": "code",
   "execution_count": 65,
   "metadata": {
    "colab": {
     "base_uri": "https://localhost:8080/",
     "height": 592
    },
    "id": "-mfZRCuKPue1",
    "outputId": "f30f9937-a3c1-4906-8d09-b16858c37164"
   },
   "outputs": [
    {
     "data": {
      "image/png": "[encoded data removed]",
      "text/plain": [
       "<Figure size 1440x1080 with 2 Axes>"
      ]
     },
     "metadata": {
      "needs_background": "light"
     },
     "output_type": "display_data"
    }
   ],
   "source": [
    "plt.figure(figsize=(20,15))   #Visualize the confusion matrix as a heatmap\n",
    "sns.heatmap(cm, annot=True)\n",
    "plt.show()"
   ]
  },
  {
   "cell_type": "code",
   "execution_count": 70,
   "metadata": {
    "id": "TNIQttvCP3DL"
   },
   "outputs": [],
   "source": [
    "def predict(text):\n",
    "    x = cv.transform([text]).toarray()  # Convert the text input into a numerical format using CountVectorizer and transform it into a numpy array\n",
    "    lang = model.predict(x)       # Predict the language of the input text using the trained model\n",
    "    lang = le.inverse_transform(lang)   # Inverse transform the predicted label to get the actual language name\n",
    "    print(\"The language is:\", lang[0])   # Print the predicted language name\n",
    "     "
   ]
  },
  {
   "cell_type": "code",
   "execution_count": 71,
   "metadata": {
    "colab": {
     "base_uri": "https://localhost:8080/"
    },
    "id": "ukTD9wuKQFt9",
    "outputId": "1c9d7a7e-fc63-43b3-c1e0-782cc7b0c0c7"
   },
   "outputs": [
    {
     "name": "stdout",
     "output_type": "stream",
     "text": [
      "The language is: Arabic\n",
      "The language is: English\n",
      "The language is: Spanish\n"
     ]
    }
   ],
   "source": [
    "predict(\"صباح الخير \")   #Use the predict function to predict the language of a given text\n",
    "predict(\"hello\")\n",
    "predict(\"hola\")"
   ]
  }
 ],
 "metadata": {
  "colab": {
   "name": "Language_Detection(NLP).ipynb",
   "provenance": []
  },
  "kernelspec": {
   "display_name": "Python 3 (ipykernel)",
   "language": "python",
   "name": "python3"
  },
  "language_info": {
   "codemirror_mode": {
    "name": "ipython",
    "version": 3
   },
   "file_extension": ".py",
   "mimetype": "text/x-python",
   "name": "python",
   "nbconvert_exporter": "python",
   "pygments_lexer": "ipython3",
   "version": "3.9.7"
  }
 },
 "nbformat": 4,
 "nbformat_minor": 1
}
